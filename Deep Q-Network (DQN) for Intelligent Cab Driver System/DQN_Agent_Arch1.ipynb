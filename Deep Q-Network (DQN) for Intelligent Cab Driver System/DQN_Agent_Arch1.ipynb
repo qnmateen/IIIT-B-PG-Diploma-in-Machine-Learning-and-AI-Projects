{
 "cells": [
  {
   "cell_type": "markdown",
   "metadata": {},
   "source": [
    "### Cab-Driver Agent"
   ]
  },
  {
   "cell_type": "code",
   "execution_count": 12,
   "metadata": {},
   "outputs": [],
   "source": [
    "# Importing libraries\n",
    "import numpy as np\n",
    "import random\n",
    "import math\n",
    "from collections import deque\n",
    "import collections\n",
    "import pickle\n",
    "import pylab\n",
    "# for building DQN model\n",
    "from tensorflow.keras import layers\n",
    "from tensorflow.keras import Sequential\n",
    "from tensorflow.keras.layers import Dense, Activation, Flatten\n",
    "from tensorflow.keras.optimizers import Adam\n",
    "\n",
    "# for plotting graphs\n",
    "import matplotlib.pyplot as plt\n",
    "\n",
    "# Import the environment\n",
    "from Env import CabDriver"
   ]
  },
  {
   "cell_type": "markdown",
   "metadata": {},
   "source": [
    "#### Defining Time Matrix"
   ]
  },
  {
   "cell_type": "code",
   "execution_count": 13,
   "metadata": {},
   "outputs": [],
   "source": [
    "# Loading the time matrix provided\n",
    "Time_matrix = np.load(\"TM.npy\")"
   ]
  },
  {
   "cell_type": "code",
   "execution_count": 14,
   "metadata": {},
   "outputs": [],
   "source": [
    "env = CabDriver()"
   ]
  },
  {
   "cell_type": "markdown",
   "metadata": {},
   "source": [
    "#### Tracking the state-action pairs for checking convergence\n"
   ]
  },
  {
   "cell_type": "code",
   "execution_count": 15,
   "metadata": {},
   "outputs": [],
   "source": [
    "#Defining a function to save the Q-dictionary as a pickle file\n",
    "def save_obj(obj, name ):\n",
    "    with open(name + '.pkl', 'wb') as f:\n",
    "        pickle.dump(obj, f, pickle.HIGHEST_PROTOCOL)"
   ]
  },
  {
   "cell_type": "markdown",
   "metadata": {},
   "source": [
    "### Agent Class\n",
    "\n",
    "If you are using this framework, you need to fill the following to complete the following code block:\n",
    "1. State and Action Size\n",
    "2. Hyperparameters\n",
    "3. Create a neural-network model in function 'build_model()'\n",
    "4. Define epsilon-greedy strategy in function 'get_action()'\n",
    "5. Complete the function 'append_sample()'. This function appends the recent experience tuple <state, action, reward, new-state> to the memory\n",
    "6. Complete the 'train_model()' function with following logic:\n",
    "   - If the memory size is greater than mini-batch size, you randomly sample experiences from memory as per the mini-batch size and do the following:\n",
    "      - Initialise your input and output batch for training the model\n",
    "      - Calculate the target Q value for each sample: reward + gamma*max(Q(s'a,))\n",
    "      - Get Q(s', a) values from the last trained model\n",
    "      - Update the input batch as your encoded state and output batch as your Q-values\n",
    "      - Then fit your DQN model using the updated input and output batch."
   ]
  },
  {
   "cell_type": "code",
   "execution_count": 16,
   "metadata": {},
   "outputs": [],
   "source": [
    "class DQNAgent:\n",
    "    def __init__(self, state_size, action_size):\n",
    "        # Define size of state and action\n",
    "        self.state_size = state_size\n",
    "        self.action_size = action_size\n",
    "\n",
    "        # Write here: Specify you hyper parameters for the DQN\n",
    "        self.discount_factor = 0.99\n",
    "        self.learning_rate = 0.001   \n",
    "        self.epsilon = 1.0\n",
    "        self.epsilon_decay = 0.0100\n",
    "        self.epsilon_min = 0.08\n",
    "        \n",
    "        self.batch_size = 32        \n",
    "        # create replay memory using deque\n",
    "        self.memory = deque(maxlen=2000)\n",
    "        self.train_start = 100\n",
    "        \n",
    "        # Initialize the value of the states tracked\n",
    "        self.states_tracked = []\n",
    "\n",
    "        #Track for 1, 0, 0 state\n",
    "        self.track_state = np.array(env.state_encod_arch1([1,0,0])).reshape(1, 36)\n",
    "        # create main model and target model\n",
    "        self.model = self.build_model()\n",
    "        #build target model\n",
    "        self.target_model = self.build_model()\n",
    "\n",
    "    # approximate Q function using Neural Network\n",
    "    def build_model(self):\n",
    "        model = Sequential()\n",
    "        # Write your code here: Add layers to your neural nets       \n",
    "        model.add(Dense(32, input_dim=self.state_size, activation='relu', kernel_initializer='he_uniform'))\n",
    "        model.add(Dense(32, activation='relu', kernel_initializer='he_uniform'))\n",
    "        model.add(Dense(self.action_size, activation='relu', kernel_initializer='he_uniform'))\n",
    "        model.compile(loss='mse',optimizer=Adam(learning_rate=self.learning_rate))\n",
    "        return model\n",
    "\n",
    "    def get_action(self, state,possible_actions_index):\n",
    "    # Write your code here:\n",
    "    # get action from model using epsilon-greedy policy\n",
    "    # Decay in ε after we generate each sample from the environment       \n",
    "        \n",
    "        if np.random.rand() <= self.epsilon:\n",
    "            # explore: choose a random action from all possible actions\n",
    "            # possible actions list would be given by environment\n",
    "            return random.choice(possible_actions)\n",
    "        else:\n",
    "            # choose the action with the highest q(s, a)\n",
    "            # the first index corresponds to the batch size, so\n",
    "            # reshape state to (1, state_size) so that the first index corresponds to the batch size\n",
    "            state = np.array(env.state_encod_arch1(state)).reshape(1, 36)\n",
    "\n",
    "            # Use the model to predict the Q_values.\n",
    "            q_value = self.model.predict(state)\n",
    "\n",
    "            # truncate the array to only those actions that are part of the ride  requests.\n",
    "            q_vals_possible = [q_value[0][i] for i in possible_actions_index]\n",
    "\n",
    "            return possible_actions_index[np.argmax(q_vals_possible)]\n",
    "        \n",
    "\n",
    "    def append_sample(self, state, action_index, reward, next_state,done):\n",
    "        # append the tuple (s, a, r, s', done) to memory (replay buffer) after every action\n",
    "        self.memory.append((state, action_index, reward, next_state, done))\n",
    "    \n",
    "       \n",
    "    # pick samples randomly from replay memory (with batch_size) and train the network\n",
    "    def train_model(self):\n",
    "        if len(self.memory) < self.train_start:\n",
    "            return\n",
    "\n",
    "        # Sample batch from the memory\n",
    "        mini_batch = random.sample(self.memory, self.batch_size)\n",
    "\n",
    "        update_output = np.zeros((self.batch_size, self.state_size))\n",
    "        update_input = np.zeros((self.batch_size, self.state_size))\n",
    "        \n",
    "        actions, rewards, done = [], [],[]\n",
    "        \n",
    "        for i in range(self.batch_size):\n",
    "            state, action, reward, next_state,done_boolean = mini_batch[i]\n",
    "            update_input[i] = env.state_encod_arch1(state)    \n",
    "            actions.append(action)\n",
    "            rewards.append(reward)\n",
    "            update_output[i] = env.state_encod_arch1(next_state)\n",
    "            done.append(done_boolean)\n",
    "        # Write your code from here\n",
    "        # 1. Predict the target from earlier model\n",
    "        target = self.model.predict(update_input)\n",
    "            \n",
    "        # 2. Get the target for the Q-network\n",
    "        target_qval = self.target_model.predict(update_output)  \n",
    "            \n",
    "        #3. Update your 'update_output' and 'update_input' batch\n",
    "        for i in range(self.batch_size):\n",
    "            if done[i]:\n",
    "                target[i][actions[i]] = rewards[i]\n",
    "            else: # non-terminal state\n",
    "                target[i][actions[i]] = rewards[i] + self.discount_factor * np.max(target_qval[i])\n",
    "        # 4. Fit your model and track the loss values\n",
    "        self.model.fit(update_input, target, batch_size=self.batch_size, epochs=1, verbose=0)\n",
    "\n",
    "    def save_tracking_states(self):\n",
    "        # Use the model to predict the q_value of the state we are tacking.\n",
    "        q_value = self.model.predict(self.track_state)\n",
    "        \n",
    "        # Grab the q_value of the action index that we are tracking.\n",
    "        self.states_tracked.append(q_value[0][2])\n",
    "        \n",
    "    def save(self, name):\n",
    "        self.model.save(name)\n",
    "\n",
    "    def update_target_model(self):\n",
    "        # update the target Q-value network to current Q-value network after training for a episode. \n",
    "        # this means that weights an biases of target Q-value network will become same as current Q-value network.\n",
    "        self.target_model.set_weights(self.model.get_weights())        "
   ]
  },
  {
   "cell_type": "code",
   "execution_count": 17,
   "metadata": {},
   "outputs": [],
   "source": [
    "Episodes = 1000"
   ]
  },
  {
   "cell_type": "markdown",
   "metadata": {},
   "source": [
    "### DQN block"
   ]
  },
  {
   "cell_type": "code",
   "execution_count": 18,
   "metadata": {},
   "outputs": [
    {
     "name": "stdout",
     "output_type": "stream",
     "text": [
      "Episode: 50   score: 504.0   memory length: 2000   epsilon: 0.6187772039722228\n",
      "Episode: 100   score: 820.0   memory length: 2000   epsilon: 0.3753073457404111\n",
      "Episode: 150   score: 1132.0   memory length: 2000   epsilon: 0.2276354120069289\n",
      "Episode: 200   score: 1244.0   memory length: 2000   epsilon: 0.13806785661851972\n",
      "Episode: 250   score: 1118.0   memory length: 2000   epsilon: 0.08374238815994005\n",
      "Episode: 300   score: 1548.0   memory length: 2000   epsilon: 0.07965822369569515\n",
      "Episode: 350   score: 1459.0   memory length: 2000   epsilon: 0.07965822369569515\n",
      "Episode: 400   score: 1647.0   memory length: 2000   epsilon: 0.07965822369569515\n",
      "Episode: 450   score: 1716.0   memory length: 2000   epsilon: 0.07965822369569515\n",
      "Episode: 500   score: 1721.0   memory length: 2000   epsilon: 0.07965822369569515\n",
      "Episode: 550   score: 1586.0   memory length: 2000   epsilon: 0.07965822369569515\n",
      "Episode: 600   score: 1771.0   memory length: 2000   epsilon: 0.07965822369569515\n",
      "Episode: 650   score: 1652.0   memory length: 2000   epsilon: 0.07965822369569515\n",
      "Episode: 700   score: 1531.0   memory length: 2000   epsilon: 0.07965822369569515\n",
      "Episode: 750   score: 1559.0   memory length: 2000   epsilon: 0.07965822369569515\n",
      "Episode: 800   score: 1576.0   memory length: 2000   epsilon: 0.07965822369569515\n",
      "Episode: 850   score: 1656.0   memory length: 2000   epsilon: 0.07965822369569515\n",
      "Episode: 900   score: 1419.0   memory length: 2000   epsilon: 0.07965822369569515\n",
      "Episode: 950   score: 1797.0   memory length: 2000   epsilon: 0.07965822369569515\n",
      "Episode: 1000   score: 1702.0   memory length: 2000   epsilon: 0.07965822369569515\n"
     ]
    },
    {
     "data": {
      "image/png": "[encoded data removed]",
      "text/plain": [
       "<Figure size 432x288 with 1 Axes>"
      ]
     },
     "metadata": {
      "needs_background": "light"
     },
     "output_type": "display_data"
    }
   ],
   "source": [
    "state = env.state_init\n",
    "state_encoded = env.state_encod_arch1(state)\n",
    "\n",
    "state_size = len(state_encoded)\n",
    "action_size = len(env.action_space)\n",
    "agent = DQNAgent(state_size, action_size)\n",
    "scores, episodes = [], []\n",
    "states_track = collections.defaultdict(dict)\n",
    "episode_time = 24*30\n",
    "\n",
    "for episode in range(Episodes):\n",
    "\n",
    "    # Write code here\n",
    "    # Call the environment\n",
    "    # Call all the initialised variables of the environment\n",
    "    \n",
    "    score = 0\n",
    "    done = False\n",
    "    reward = 0\n",
    "    env = CabDriver()\n",
    "    #Call the DQN agent\n",
    "    action_space, state_space, state = env.reset()\n",
    "    total_time = 0\n",
    "    initial_state = env.state_init\n",
    "\n",
    "    while done==False:\n",
    "        # Write your code here\n",
    "        # 1. Pick epsilon-greedy action from possible actions for the current state\n",
    "        # 2. Evaluate your reward and next state\n",
    "        # 3. Append the experience to the memory\n",
    "        # 4. Train the model by calling function agent.train_model\n",
    "        # 5. Keep a track of rewards, Q-values, loss\n",
    "\n",
    "        # get possible list of actions from the environment\n",
    "        possible_actions, action_list = env.requests(state)\n",
    "\n",
    "        # pick epsilon-greedy action from possible actions for the current state\n",
    "        # possible actions is given by the environment\n",
    "        action = agent.get_action(state, possible_actions)\n",
    "        \n",
    "        reward, next_state, step_time = env.step(state, env.action_space[action], Time_matrix)\n",
    "\n",
    "        total_time += step_time\n",
    "        \n",
    "        # 5. Append the experience to the memory\n",
    "        agent.append_sample(state, action, reward, next_state, done)\n",
    "        # 6. Train the model by calling function agent.train_model\n",
    "        agent.train_model()\n",
    "\n",
    "        #if we exceed time then terminate episode\n",
    "        if (total_time > episode_time):\n",
    "            done = True\n",
    "        else:\n",
    "            # 7. Keep a track of rewards, Q-values, loss\n",
    "            score += reward\n",
    "            state = next_state\n",
    "\n",
    "    # store total reward obtained in this episode\n",
    "    agent.update_target_model()\n",
    "    \n",
    "    scores.append(score)\n",
    "    episodes.append(episode)\n",
    "            \n",
    "\n",
    "    # this is track q-value convergence\n",
    "    # once the episode is complete, q-values will be predicted for all possible actions for the initial state\n",
    "    # this way is much easier to track because other states would be difficult to track as it is heavily dependant on the location and action taken\n",
    "    \n",
    "    # Save the Q_value of the state, action pair we are tracking\n",
    "    if ((episode + 1) % 5 == 0):\n",
    "        agent.save_tracking_states()\n",
    "    \n",
    "    if((episode+1)%50==0):\n",
    "        print(\"Episode:\", episode + 1, \"  score:\", score, \"  memory length:\", len(agent.memory), \"  epsilon:\", agent.epsilon)\n",
    "    \n",
    "    #save the graph, model (h5, pickle file)\n",
    "    if (episode + 1) % 500 == 0:\n",
    "        pylab.plot(episodes, scores)\n",
    "        pylab.savefig(\"cardriver_dqn_\" + str(score) + \".png\")\n",
    "        agent.save(\"cardriver_dqn_\" + str(score) + \".h5\")\n",
    "        #agent.save_model_graph(str(score))\n",
    "        # this is the only one required for assignment. this will create pickle file\n",
    "        save_obj(agent.model.get_weights(), \"cardriver_dqn_\" + str(score))\n",
    "\n",
    "    # decay in ε after we generate each sample from the environment\n",
    "    if agent.epsilon > agent.epsilon_min:\n",
    "        agent.epsilon =agent.epsilon = (1 - 0.00001) * np.exp(-agent.epsilon_decay * episode)\n",
    "       "
   ]
  },
  {
   "cell_type": "markdown",
   "metadata": {},
   "source": [
    "### Tracking Convergence"
   ]
  },
  {
   "cell_type": "code",
   "execution_count": 19,
   "metadata": {},
   "outputs": [
    {
     "data": {
      "text/plain": [
       "[<matplotlib.lines.Line2D at 0x23220a28c40>]"
      ]
     },
     "execution_count": 19,
     "metadata": {},
     "output_type": "execute_result"
    },
    {
     "data": {
      "image/png": "[encoded data removed]",
      "text/plain": [
       "<Figure size 432x288 with 1 Axes>"
      ]
     },
     "metadata": {
      "needs_background": "light"
     },
     "output_type": "display_data"
    }
   ],
   "source": [
    "# convergence with scores\n",
    "plt.plot(episodes, scores)"
   ]
  },
  {
   "cell_type": "markdown",
   "metadata": {},
   "source": [
    "#### Epsilon-decay sample function"
   ]
  },
  {
   "cell_type": "markdown",
   "metadata": {},
   "source": [
    "<div class=\"alert alert-block alert-info\">\n",
    "Try building a similar epsilon-decay function for your model.\n",
    "</div>"
   ]
  },
  {
   "cell_type": "code",
   "execution_count": 22,
   "metadata": {},
   "outputs": [
    {
     "data": {
      "image/png": "[encoded data removed]",
      "text/plain": [
       "<Figure size 432x288 with 1 Axes>"
      ]
     },
     "metadata": {
      "needs_background": "light"
     },
     "output_type": "display_data"
    }
   ],
   "source": [
    "import numpy as np\n",
    "time = np.arange(0,1000)\n",
    "epsilon = []\n",
    "for i in range(0,1000):\n",
    "    epsilon.append(0 + (1 - 0.00001) * np.exp(-0.0100*i))\n",
    "\n",
    "plt.plot(time, epsilon)\n",
    "plt.show()"
   ]
  },
  {
   "cell_type": "code",
   "execution_count": null,
   "metadata": {},
   "outputs": [],
   "source": []
  }
 ],
 "metadata": {
  "kernelspec": {
   "display_name": "Python 3 (ipykernel)",
   "language": "python",
   "name": "python3"
  },
  "language_info": {
   "codemirror_mode": {
    "name": "ipython",
    "version": 3
   },
   "file_extension": ".py",
   "mimetype": "text/x-python",
   "name": "python",
   "nbconvert_exporter": "python",
   "pygments_lexer": "ipython3",
   "version": "3.9.7"
  }
 },
 "nbformat": 4,
 "nbformat_minor": 2
}
